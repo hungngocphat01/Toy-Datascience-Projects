{
 "cells": [
  {
   "cell_type": "markdown",
   "id": "96d95429-a10e-4255-9251-bd7a3563bb74",
   "metadata": {},
   "source": [
    "# Initialization"
   ]
  },
  {
   "cell_type": "code",
   "execution_count": 62,
   "id": "dd51b218-4bdd-4d1c-9d0e-b0175e065c2d",
   "metadata": {},
   "outputs": [],
   "source": [
    "import re\n",
    "import pandas as pd\n",
    "from os import listdir\n",
    "from os.path import *\n",
    "from time import sleep\n",
    "from selenium import webdriver\n",
    "from selenium.webdriver.firefox.options import Options\n",
    "from bs4 import BeautifulSoup\n",
    "from tqdm import tqdm"
   ]
  },
  {
   "cell_type": "markdown",
   "id": "8d07b07f-fe23-4af7-8306-275b0b589cf3",
   "metadata": {},
   "source": [
    "## Initialize selenium"
   ]
  },
  {
   "cell_type": "code",
   "execution_count": 122,
   "id": "ccb9918a-97c3-4689-9860-43b2a809e28f",
   "metadata": {},
   "outputs": [],
   "source": [
    "options = Options()\n",
    "options.headless = True\n",
    "driver = webdriver.Firefox(options=options)"
   ]
  },
  {
   "cell_type": "markdown",
   "id": "23ce03d7-7585-4bbf-8a92-205127b3c44c",
   "metadata": {},
   "source": [
    "# Scrape song info"
   ]
  },
  {
   "cell_type": "markdown",
   "id": "f2764ef6-3470-40d1-8491-137d31ae09fc",
   "metadata": {
    "tags": []
   },
   "source": [
    "## Download main page's html"
   ]
  },
  {
   "cell_type": "code",
   "execution_count": 5,
   "id": "fac8bc00-f57f-4860-9f4a-74246f1c6631",
   "metadata": {},
   "outputs": [],
   "source": [
    "main_page_url = 'https://ll-fans.jp/data/song'"
   ]
  },
  {
   "cell_type": "code",
   "execution_count": 8,
   "id": "460d9a71-dbb5-4663-b600-e3c42ad49f94",
   "metadata": {},
   "outputs": [],
   "source": [
    "driver.get(main_page_url)"
   ]
  },
  {
   "cell_type": "code",
   "execution_count": 9,
   "id": "f0de38ac-0d4b-4811-91c0-40a0eca9fff0",
   "metadata": {},
   "outputs": [],
   "source": [
    "with open('main.html', mode='wt') as f:\n",
    "    f.write(driver.page_source)"
   ]
  },
  {
   "cell_type": "markdown",
   "id": "6ca87351-1461-4c15-b9ee-441348b114c5",
   "metadata": {},
   "source": [
    "## Parse main page to download each song's html"
   ]
  },
  {
   "cell_type": "code",
   "execution_count": 10,
   "id": "5d6b357f-95b5-46b7-ae8f-1d155061c806",
   "metadata": {},
   "outputs": [],
   "source": [
    "with open('main.html', mode='r') as f:\n",
    "    main_source = f.read()"
   ]
  },
  {
   "cell_type": "code",
   "execution_count": 12,
   "id": "e2bba93a-628a-4187-8789-22853f8c016d",
   "metadata": {},
   "outputs": [],
   "source": [
    "soup = BeautifulSoup(main_source)"
   ]
  },
  {
   "cell_type": "code",
   "execution_count": 16,
   "id": "2701d193-97fc-4086-bcaa-aa03ab38ab2e",
   "metadata": {},
   "outputs": [],
   "source": [
    "all_songs_a = soup.find_all('a', href=re.compile('\\/data\\/song/'))"
   ]
  },
  {
   "cell_type": "code",
   "execution_count": 21,
   "id": "15d41159-4290-474b-af2e-8f3f73b1bd66",
   "metadata": {},
   "outputs": [],
   "source": [
    "all_songs_link = list(map(lambda a: 'https://ll-fans.jp' + a['href'], all_songs_a))"
   ]
  },
  {
   "cell_type": "code",
   "execution_count": 29,
   "id": "55a3c06a-2d42-4382-a027-a3c715910d2c",
   "metadata": {
    "tags": []
   },
   "outputs": [
    {
     "name": "stderr",
     "output_type": "stream",
     "text": [
      "100%|█████████████████████████████████████████| 406/406 [18:32<00:00,  2.74s/it]\n"
     ]
    }
   ],
   "source": [
    "for link in tqdm(all_songs_link):\n",
    "    song_id = re.search('(\\d+)$', link).group(1)\n",
    "    out_filename = str(song_id) + '.html'\n",
    "    with open(join('songs_html', out_filename), mode='wt') as f:\n",
    "        driver.get(link)\n",
    "        f.write(driver.page_source)\n",
    "        sleep(1)"
   ]
  },
  {
   "cell_type": "markdown",
   "id": "17543774-3b3c-49ea-b9b5-f1448a78830e",
   "metadata": {},
   "source": [
    "## Parse each page, get information\n",
    "\n",
    "Columns:\n",
    "- `name`: name of the song in Japanese.\n",
    "- `release_date`: release date in Japanese format.\n",
    "- `artist`\n",
    "- `lyricist`\n",
    "- `composer`\n",
    "- `arranger`\n",
    "- `discs`\n",
    "- `appearance`: json `[{'event': ..., 'concert': ..., 'performance': ...}, ...]`"
   ]
  },
  {
   "cell_type": "code",
   "execution_count": 36,
   "id": "60598ca7-9d65-441e-a9d1-4dbc275b8011",
   "metadata": {},
   "outputs": [],
   "source": [
    "html_files = list(filter(lambda x: x.endswith('html'), listdir('songs_html')))"
   ]
  },
  {
   "cell_type": "code",
   "execution_count": 54,
   "id": "8c491c79-2a6c-4d7a-baac-9131ed45142e",
   "metadata": {},
   "outputs": [],
   "source": [
    "def select_or_none(soup, css_selector, prop='text'):\n",
    "    \"\"\"\n",
    "    Select the first element which matches the given CSS selector.\n",
    "    Return None if there aren't any\n",
    "    \"\"\"\n",
    "    results = soup.select(css_selector)\n",
    "    if len(results) == 0:\n",
    "        return None\n",
    "    if prop == 'text':\n",
    "        return str(results[0].text)\n",
    "    return str(results[0][prop])"
   ]
  },
  {
   "cell_type": "code",
   "execution_count": 199,
   "id": "2cd28e7c-6c55-4fbf-ae39-e15457f30177",
   "metadata": {},
   "outputs": [
    {
     "name": "stderr",
     "output_type": "stream",
     "text": [
      "100%|█████████████████████████████████████████| 108/108 [00:03<00:00, 28.44it/s]\n"
     ]
    }
   ],
   "source": [
    "info_df_dict = []\n",
    "for filename in tqdm(html_files):\n",
    "    song_info = dict()\n",
    "    song_info['id'] = re.search('(\\d+)\\.html', filename).group(1)\n",
    "    \n",
    "    with open(join('songs_html', filename)) as f:    \n",
    "        soup = BeautifulSoup(f.read())\n",
    "        \n",
    "    # Get song name\n",
    "    song_info['name'] = select_or_none(soup, 'h1[class*=\"llstyle12\"]')\n",
    "    # Get date\n",
    "    song_date_sel = '[class*=\"MuiGrid-grid-md\"]:nth-child(1) > dl:nth-child(1) > dd:nth-child(2)'\n",
    "    song_info['date'] = select_or_none(soup, song_date_sel)\n",
    "    # Get artist\n",
    "    artist_sel = '[class*=\"MuiGrid-grid-md\"]:nth-child(1) > dl:nth-child(1) > dd:nth-child(4)'\n",
    "    song_info['artists'] = select_or_none(soup, artist_sel)\n",
    "    # Get lyricist\n",
    "    lyr_sel = '[class*=\"MuiGrid-grid-md\"]:nth-child(1) > dl:nth-child(1) > dd:nth-child(6)'\n",
    "    song_info['lyricists'] = select_or_none(soup, lyr_sel)\n",
    "    # Get composer\n",
    "    com_sel = 'dd.llstyle18:nth-child(8)'\n",
    "    song_info['composers'] = select_or_none(soup, com_sel)\n",
    "    # Get arranger\n",
    "    arr_sel = 'dd.llstyle17:nth-child(10)'\n",
    "    song_info['arrangers'] = select_or_none(soup, arr_sel)\n",
    "    \n",
    "    # Get disc ids\n",
    "    discs_sel = 'table.MuiTable-root:nth-child(2) > tbody:nth-child(1) > tr'\n",
    "    disc_entries = soup.select(discs_sel)\n",
    "    song_info['discs'] = set()\n",
    "    \n",
    "    for entry in disc_entries:\n",
    "        entry_a = entry.select('tr > td > a')[0]\n",
    "        disc_id = re.search('(\\d+)$', entry_a['href']).group(1)\n",
    "        song_info['discs'].add(int(disc_id))\n",
    "        \n",
    "    # Get events\n",
    "    events_sel = 'div.llstyle8:nth-child(6) > div:nth-child(2) > div:nth-child(1) > div:nth-child(1) > dl:nth-child(1) > dd:nth-child(8) > div:nth-child(1) > table:nth-child(1) > tbody:nth-child(1) > tr'\n",
    "    events_entry = soup.select(events_sel)\n",
    "    song_info['events'] = list()\n",
    "    \n",
    "    for entry in events_entry:\n",
    "        entry_a = entry.select('tr > td > p > a')[0]\n",
    "        pattern = re.compile('\\/data\\/event\\/(\\d*)\\?concert=(\\d*)\\&performance=(\\d*)')\n",
    "        pattern_results = pattern.search(entry_a['href'])\n",
    "        song_info['events'].append({\n",
    "            'event': pattern_results.group(1),\n",
    "            'concert': pattern_results.group(2),\n",
    "            'performance': pattern_results.group(3)\n",
    "        })         \n",
    "    info_df_dict.append(song_info)"
   ]
  },
  {
   "cell_type": "code",
   "execution_count": 200,
   "id": "56f91ee0-3f8d-4493-b7c3-63461e61c815",
   "metadata": {},
   "outputs": [],
   "source": [
    "songs_df = pd.DataFrame(info_df_dict)"
   ]
  },
  {
   "cell_type": "code",
   "execution_count": 201,
   "id": "41f66bd0-2710-49b2-a037-5490d3a6d0bf",
   "metadata": {},
   "outputs": [
    {
     "data": {
      "text/html": [
       "<div>\n",
       "<style scoped>\n",
       "    .dataframe tbody tr th:only-of-type {\n",
       "        vertical-align: middle;\n",
       "    }\n",
       "\n",
       "    .dataframe tbody tr th {\n",
       "        vertical-align: top;\n",
       "    }\n",
       "\n",
       "    .dataframe thead th {\n",
       "        text-align: right;\n",
       "    }\n",
       "</style>\n",
       "<table border=\"1\" class=\"dataframe\">\n",
       "  <thead>\n",
       "    <tr style=\"text-align: right;\">\n",
       "      <th></th>\n",
       "      <th>id</th>\n",
       "      <th>name</th>\n",
       "      <th>date</th>\n",
       "      <th>artists</th>\n",
       "      <th>lyricists</th>\n",
       "      <th>composers</th>\n",
       "      <th>arrangers</th>\n",
       "      <th>discs</th>\n",
       "      <th>events</th>\n",
       "    </tr>\n",
       "  </thead>\n",
       "  <tbody>\n",
       "    <tr>\n",
       "      <th>0</th>\n",
       "      <td>32</td>\n",
       "      <td>Wonderful Rush</td>\n",
       "      <td>2012年9月5日</td>\n",
       "      <td>μ's</td>\n",
       "      <td>畑 亜貴</td>\n",
       "      <td>河田貴央</td>\n",
       "      <td>河田貴央</td>\n",
       "      <td>{21, 166, 23}</td>\n",
       "      <td>[{'event': '107', 'concert': '145', 'performan...</td>\n",
       "    </tr>\n",
       "    <tr>\n",
       "      <th>1</th>\n",
       "      <td>35</td>\n",
       "      <td>after school NAVIGATORS</td>\n",
       "      <td>2012年10月17日</td>\n",
       "      <td>にこりんぱな</td>\n",
       "      <td>畑 亜貴</td>\n",
       "      <td>河田貴央</td>\n",
       "      <td>河田貴央</td>\n",
       "      <td>{166, 22, 23}</td>\n",
       "      <td>[{'event': '98', 'concert': '138', 'performanc...</td>\n",
       "    </tr>\n",
       "    <tr>\n",
       "      <th>2</th>\n",
       "      <td>33</td>\n",
       "      <td>Oh,Love＆Peace!</td>\n",
       "      <td>2012年9月5日</td>\n",
       "      <td>μ's</td>\n",
       "      <td>畑 亜貴</td>\n",
       "      <td>黒須克彦</td>\n",
       "      <td>黒須克彦</td>\n",
       "      <td>{21, 166, 23}</td>\n",
       "      <td>[{'event': '107', 'concert': '145', 'performan...</td>\n",
       "    </tr>\n",
       "    <tr>\n",
       "      <th>3</th>\n",
       "      <td>101</td>\n",
       "      <td>Angelic Angel</td>\n",
       "      <td>2015年7月1日</td>\n",
       "      <td>μ's</td>\n",
       "      <td>畑 亜貴</td>\n",
       "      <td>森慎太郎</td>\n",
       "      <td>倉内達矢</td>\n",
       "      <td>{56, 166}</td>\n",
       "      <td>[{'event': '107', 'concert': '145', 'performan...</td>\n",
       "    </tr>\n",
       "    <tr>\n",
       "      <th>4</th>\n",
       "      <td>62</td>\n",
       "      <td>タカラモノズ</td>\n",
       "      <td>2014年1月29日</td>\n",
       "      <td>μ's</td>\n",
       "      <td>畑 亜貴</td>\n",
       "      <td>高田 暁</td>\n",
       "      <td>高田 暁</td>\n",
       "      <td>{34, 166, 55}</td>\n",
       "      <td>[{'event': '106', 'concert': '147', 'performan...</td>\n",
       "    </tr>\n",
       "    <tr>\n",
       "      <th>...</th>\n",
       "      <td>...</td>\n",
       "      <td>...</td>\n",
       "      <td>...</td>\n",
       "      <td>...</td>\n",
       "      <td>...</td>\n",
       "      <td>...</td>\n",
       "      <td>...</td>\n",
       "      <td>...</td>\n",
       "      <td>...</td>\n",
       "    </tr>\n",
       "    <tr>\n",
       "      <th>103</th>\n",
       "      <td>55</td>\n",
       "      <td>Pure girls project</td>\n",
       "      <td>2013年8月21日</td>\n",
       "      <td>Printemps</td>\n",
       "      <td>畑 亜貴</td>\n",
       "      <td>倉内達矢</td>\n",
       "      <td>倉内達矢</td>\n",
       "      <td>{32, 166, 55}</td>\n",
       "      <td>[{'event': '88', 'concert': '115', 'performanc...</td>\n",
       "    </tr>\n",
       "    <tr>\n",
       "      <th>104</th>\n",
       "      <td>90</td>\n",
       "      <td>Trouble Busters</td>\n",
       "      <td>2014年12月24日</td>\n",
       "      <td>BiBi</td>\n",
       "      <td>畑 亜貴</td>\n",
       "      <td>佐々倉有吾</td>\n",
       "      <td>倉内達矢</td>\n",
       "      <td>{53, 166, 55}</td>\n",
       "      <td>[{'event': '91', 'concert': '119', 'performanc...</td>\n",
       "    </tr>\n",
       "    <tr>\n",
       "      <th>105</th>\n",
       "      <td>42</td>\n",
       "      <td>これからのSomeday</td>\n",
       "      <td>2013年3月6日</td>\n",
       "      <td>高坂穂乃果、南ことり、園田海未、星空 凛、西木野真姫、小泉花陽、矢澤にこ</td>\n",
       "      <td>畑 亜貴</td>\n",
       "      <td>yozuca*</td>\n",
       "      <td>lotta</td>\n",
       "      <td>{27, 166, 55}</td>\n",
       "      <td>[{'event': '107', 'concert': '145', 'performan...</td>\n",
       "    </tr>\n",
       "    <tr>\n",
       "      <th>106</th>\n",
       "      <td>49</td>\n",
       "      <td>Beat in Angel</td>\n",
       "      <td>2013年6月21日</td>\n",
       "      <td>星空 凛、西木野真姫</td>\n",
       "      <td>畑 亜貴</td>\n",
       "      <td>倉内達矢</td>\n",
       "      <td>倉内達矢</td>\n",
       "      <td>{184, 166, 78}</td>\n",
       "      <td>[{'event': '85', 'concert': '111', 'performanc...</td>\n",
       "    </tr>\n",
       "    <tr>\n",
       "      <th>107</th>\n",
       "      <td>47</td>\n",
       "      <td>Anemone heart</td>\n",
       "      <td>2013年4月24日</td>\n",
       "      <td>南ことり、園田海未</td>\n",
       "      <td>畑 亜貴</td>\n",
       "      <td>高田 暁</td>\n",
       "      <td>高田 暁</td>\n",
       "      <td>{184, 76, 166}</td>\n",
       "      <td>[{'event': '85', 'concert': '111', 'performanc...</td>\n",
       "    </tr>\n",
       "  </tbody>\n",
       "</table>\n",
       "<p>108 rows × 9 columns</p>\n",
       "</div>"
      ],
      "text/plain": [
       "      id                     name         date  \\\n",
       "0     32           Wonderful Rush    2012年9月5日   \n",
       "1     35  after school NAVIGATORS  2012年10月17日   \n",
       "2     33           Oh,Love＆Peace!    2012年9月5日   \n",
       "3    101            Angelic Angel    2015年7月1日   \n",
       "4     62                   タカラモノズ   2014年1月29日   \n",
       "..   ...                      ...          ...   \n",
       "103   55       Pure girls project   2013年8月21日   \n",
       "104   90          Trouble Busters  2014年12月24日   \n",
       "105   42             これからのSomeday    2013年3月6日   \n",
       "106   49            Beat in Angel   2013年6月21日   \n",
       "107   47            Anemone heart   2013年4月24日   \n",
       "\n",
       "                                  artists lyricists composers arrangers  \\\n",
       "0                                     μ's      畑 亜貴      河田貴央      河田貴央   \n",
       "1                                  にこりんぱな      畑 亜貴      河田貴央      河田貴央   \n",
       "2                                     μ's      畑 亜貴      黒須克彦      黒須克彦   \n",
       "3                                     μ's      畑 亜貴      森慎太郎      倉内達矢   \n",
       "4                                     μ's      畑 亜貴      高田 暁      高田 暁   \n",
       "..                                    ...       ...       ...       ...   \n",
       "103                             Printemps      畑 亜貴      倉内達矢      倉内達矢   \n",
       "104                                  BiBi      畑 亜貴     佐々倉有吾      倉内達矢   \n",
       "105  高坂穂乃果、南ことり、園田海未、星空 凛、西木野真姫、小泉花陽、矢澤にこ      畑 亜貴   yozuca*     lotta   \n",
       "106                            星空 凛、西木野真姫      畑 亜貴      倉内達矢      倉内達矢   \n",
       "107                             南ことり、園田海未      畑 亜貴      高田 暁      高田 暁   \n",
       "\n",
       "              discs                                             events  \n",
       "0     {21, 166, 23}  [{'event': '107', 'concert': '145', 'performan...  \n",
       "1     {166, 22, 23}  [{'event': '98', 'concert': '138', 'performanc...  \n",
       "2     {21, 166, 23}  [{'event': '107', 'concert': '145', 'performan...  \n",
       "3         {56, 166}  [{'event': '107', 'concert': '145', 'performan...  \n",
       "4     {34, 166, 55}  [{'event': '106', 'concert': '147', 'performan...  \n",
       "..              ...                                                ...  \n",
       "103   {32, 166, 55}  [{'event': '88', 'concert': '115', 'performanc...  \n",
       "104   {53, 166, 55}  [{'event': '91', 'concert': '119', 'performanc...  \n",
       "105   {27, 166, 55}  [{'event': '107', 'concert': '145', 'performan...  \n",
       "106  {184, 166, 78}  [{'event': '85', 'concert': '111', 'performanc...  \n",
       "107  {184, 76, 166}  [{'event': '85', 'concert': '111', 'performanc...  \n",
       "\n",
       "[108 rows x 9 columns]"
      ]
     },
     "execution_count": 201,
     "metadata": {},
     "output_type": "execute_result"
    }
   ],
   "source": [
    "songs_df"
   ]
  },
  {
   "cell_type": "code",
   "execution_count": 202,
   "id": "2be980da-1098-4b5a-a7ce-d8b06736a54e",
   "metadata": {},
   "outputs": [],
   "source": [
    "songs_df.to_csv('songs.csv', index=False)"
   ]
  },
  {
   "cell_type": "markdown",
   "id": "bb824f04-fb00-4e7b-b1f5-58de2bf85b0b",
   "metadata": {
    "tags": []
   },
   "source": [
    "# Scrape artist info"
   ]
  },
  {
   "cell_type": "markdown",
   "id": "d571ffbe-c58a-4a65-b553-ed99a47f182c",
   "metadata": {
    "tags": []
   },
   "source": [
    "## Download main page's html"
   ]
  },
  {
   "cell_type": "code",
   "execution_count": 120,
   "id": "62ea39dc-801f-4f05-8db1-fd35605b7c17",
   "metadata": {},
   "outputs": [],
   "source": [
    "main_page_url = 'https://ll-fans.jp/data/artist'"
   ]
  },
  {
   "cell_type": "code",
   "execution_count": 123,
   "id": "6af95dc1-fae5-45e2-bb09-bc667a316d73",
   "metadata": {},
   "outputs": [],
   "source": [
    "driver.get(main_page_url)"
   ]
  },
  {
   "cell_type": "code",
   "execution_count": 124,
   "id": "9d3d6eb5-463a-4239-8c30-144b02898d5c",
   "metadata": {},
   "outputs": [],
   "source": [
    "with open('main_artist.html', mode='wt') as f:\n",
    "    f.write(driver.page_source)"
   ]
  },
  {
   "cell_type": "markdown",
   "id": "b3f6ccce-40cf-4615-9850-c161b615c28a",
   "metadata": {},
   "source": [
    "## Parse main page to download each artist's html"
   ]
  },
  {
   "cell_type": "code",
   "execution_count": 125,
   "id": "5f3d9e97-a49f-4fb0-bb3f-33cb1eae7913",
   "metadata": {},
   "outputs": [],
   "source": [
    "with open('main_artist.html', mode='r') as f:\n",
    "    main_source = f.read()"
   ]
  },
  {
   "cell_type": "code",
   "execution_count": 126,
   "id": "ec611e83-96e3-4170-8bfe-72dd9918baad",
   "metadata": {},
   "outputs": [],
   "source": [
    "soup = BeautifulSoup(main_source)"
   ]
  },
  {
   "cell_type": "code",
   "execution_count": 128,
   "id": "4d39b21f-1f7c-4d03-a321-d0d9788a2a4f",
   "metadata": {},
   "outputs": [],
   "source": [
    "all_artist_links = soup.find_all('a', href=re.compile('\\/data\\/artist/'))"
   ]
  },
  {
   "cell_type": "code",
   "execution_count": 129,
   "id": "52465e45-955f-474e-af71-d4a79b8ef265",
   "metadata": {},
   "outputs": [],
   "source": [
    "all_artist_links = list(map(lambda a: 'https://ll-fans.jp' + a['href'], all_artist_links))"
   ]
  },
  {
   "cell_type": "code",
   "execution_count": 131,
   "id": "6566a4f6-14b7-4604-b61c-c91095c86f44",
   "metadata": {
    "tags": []
   },
   "outputs": [
    {
     "name": "stderr",
     "output_type": "stream",
     "text": [
      "100%|█████████████████████████████████████████| 108/108 [04:11<00:00,  2.33s/it]\n"
     ]
    }
   ],
   "source": [
    "for link in tqdm(all_artist_links):\n",
    "    artist_id = re.search('(\\d+)$', link).group(1)\n",
    "    out_filename = str(artist_id) + '.html'\n",
    "    with open(join('artists_html', out_filename), mode='wt') as f:\n",
    "        driver.get(link)\n",
    "        f.write(driver.page_source)\n",
    "        sleep(1)"
   ]
  },
  {
   "cell_type": "markdown",
   "id": "3556a1a9-33e3-4442-a947-12f16db504a7",
   "metadata": {},
   "source": [
    "## Parse each artist's html to generate artist df"
   ]
  },
  {
   "cell_type": "code",
   "execution_count": 132,
   "id": "f9bfb52d-7108-4df2-be5b-36b16cae3d60",
   "metadata": {},
   "outputs": [],
   "source": [
    "html_files = list(filter(lambda x: x.endswith('html'), listdir('artists_html')))"
   ]
  },
  {
   "cell_type": "code",
   "execution_count": 150,
   "id": "11f9e4b7-1863-4733-8559-ff8491d4eb3c",
   "metadata": {},
   "outputs": [
    {
     "name": "stderr",
     "output_type": "stream",
     "text": [
      "100%|█████████████████████████████████████████| 108/108 [00:01<00:00, 56.76it/s]\n"
     ]
    }
   ],
   "source": [
    "artist_df_dict = []\n",
    "for filename in tqdm(html_files):\n",
    "    artist_info = dict()\n",
    "    artist_info['id'] = re.search('(\\d+)\\.html', filename).group(1)\n",
    "    \n",
    "    with open(join('artists_html', filename)) as f:    \n",
    "        soup = BeautifulSoup(f.read())\n",
    "    \n",
    "    # Get artist name\n",
    "    name_sel = 'h1.MuiTypography-root'\n",
    "    artist_info['name'] = soup.select(name_sel)[0].text\n",
    "    \n",
    "    # Get members\n",
    "    members_sel = 'div.MuiPaper-root:nth-child(5) > table:nth-child(1) > tbody:nth-child(1)'\n",
    "    members_table = soup.select(members_sel)[0]\n",
    "    member_entries = members_table.select('tbody > tr > td > p')\n",
    "    artist_info['members'] = '|'.join(list(map(lambda x: x.text, member_entries)))\n",
    "    \n",
    "    artist_df_dict.append(artist_info)"
   ]
  },
  {
   "cell_type": "code",
   "execution_count": 151,
   "id": "aa1adcd7-ce46-461a-991a-4cf1ef750d47",
   "metadata": {},
   "outputs": [
    {
     "data": {
      "text/html": [
       "<div>\n",
       "<style scoped>\n",
       "    .dataframe tbody tr th:only-of-type {\n",
       "        vertical-align: middle;\n",
       "    }\n",
       "\n",
       "    .dataframe tbody tr th {\n",
       "        vertical-align: top;\n",
       "    }\n",
       "\n",
       "    .dataframe thead th {\n",
       "        text-align: right;\n",
       "    }\n",
       "</style>\n",
       "<table border=\"1\" class=\"dataframe\">\n",
       "  <thead>\n",
       "    <tr style=\"text-align: right;\">\n",
       "      <th></th>\n",
       "      <th>id</th>\n",
       "      <th>name</th>\n",
       "      <th>members</th>\n",
       "    </tr>\n",
       "  </thead>\n",
       "  <tbody>\n",
       "    <tr>\n",
       "      <th>0</th>\n",
       "      <td>32</td>\n",
       "      <td>A-RISE</td>\n",
       "      <td>綺羅ツバサ （CV: 櫻川めぐ）|統堂英玲奈 （CV: 松永真穂）|優木あんじゅ （CV: ...</td>\n",
       "    </tr>\n",
       "    <tr>\n",
       "      <th>1</th>\n",
       "      <td>35</td>\n",
       "      <td>AZALEA</td>\n",
       "      <td>松浦果南 （CV: 諏訪ななか）|黒澤ダイヤ （CV: 小宮有紗）|国木田花丸 （CV: 高...</td>\n",
       "    </tr>\n",
       "    <tr>\n",
       "      <th>2</th>\n",
       "      <td>33</td>\n",
       "      <td>Aqours</td>\n",
       "      <td>高海千歌 （CV: 伊波杏樹）|桜内梨子 （CV: 逢田梨香子）|松浦果南 （CV: 諏訪な...</td>\n",
       "    </tr>\n",
       "    <tr>\n",
       "      <th>3</th>\n",
       "      <td>101</td>\n",
       "      <td>Aqours・虹ヶ咲学園スクールアイドル同好会・Liella!</td>\n",
       "      <td>高海千歌 （CV: 伊波杏樹）|桜内梨子 （CV: 逢田梨香子）|松浦果南 （CV: 諏訪な...</td>\n",
       "    </tr>\n",
       "    <tr>\n",
       "      <th>4</th>\n",
       "      <td>62</td>\n",
       "      <td>A・ZU・NA</td>\n",
       "      <td>上原歩夢 （CV: 大西亜玖璃）|桜坂しずく （CV: 前田佳織里）|優木せつ菜 （CV: ...</td>\n",
       "    </tr>\n",
       "    <tr>\n",
       "      <th>...</th>\n",
       "      <td>...</td>\n",
       "      <td>...</td>\n",
       "      <td>...</td>\n",
       "    </tr>\n",
       "    <tr>\n",
       "      <th>103</th>\n",
       "      <td>55</td>\n",
       "      <td>高海千歌、桜内梨子、渡辺 曜、津島善子、国木田花丸、黒澤ルビィ</td>\n",
       "      <td>高海千歌 （CV: 伊波杏樹）|桜内梨子 （CV: 逢田梨香子）|渡辺 曜 （CV: 斉藤朱...</td>\n",
       "    </tr>\n",
       "    <tr>\n",
       "      <th>104</th>\n",
       "      <td>90</td>\n",
       "      <td>高海千歌、黒澤ダイヤ、津島善子</td>\n",
       "      <td>高海千歌 （CV: 伊波杏樹）|黒澤ダイヤ （CV: 小宮有紗）|津島善子 （CV: 小林愛香）</td>\n",
       "    </tr>\n",
       "    <tr>\n",
       "      <th>105</th>\n",
       "      <td>42</td>\n",
       "      <td>黒澤ダイヤ</td>\n",
       "      <td>黒澤ダイヤ （CV: 小宮有紗）</td>\n",
       "    </tr>\n",
       "    <tr>\n",
       "      <th>106</th>\n",
       "      <td>49</td>\n",
       "      <td>黒澤ダイヤ、黒澤ルビィ</td>\n",
       "      <td>黒澤ダイヤ （CV: 小宮有紗）|黒澤ルビィ （CV: 降幡 愛）</td>\n",
       "    </tr>\n",
       "    <tr>\n",
       "      <th>107</th>\n",
       "      <td>47</td>\n",
       "      <td>黒澤ルビィ</td>\n",
       "      <td>黒澤ルビィ （CV: 降幡 愛）</td>\n",
       "    </tr>\n",
       "  </tbody>\n",
       "</table>\n",
       "<p>108 rows × 3 columns</p>\n",
       "</div>"
      ],
      "text/plain": [
       "      id                             name  \\\n",
       "0     32                           A-RISE   \n",
       "1     35                           AZALEA   \n",
       "2     33                           Aqours   \n",
       "3    101  Aqours・虹ヶ咲学園スクールアイドル同好会・Liella!   \n",
       "4     62                         A・ZU・NA    \n",
       "..   ...                              ...   \n",
       "103   55  高海千歌、桜内梨子、渡辺 曜、津島善子、国木田花丸、黒澤ルビィ   \n",
       "104   90                  高海千歌、黒澤ダイヤ、津島善子   \n",
       "105   42                            黒澤ダイヤ   \n",
       "106   49                      黒澤ダイヤ、黒澤ルビィ   \n",
       "107   47                            黒澤ルビィ   \n",
       "\n",
       "                                               members  \n",
       "0    綺羅ツバサ （CV: 櫻川めぐ）|統堂英玲奈 （CV: 松永真穂）|優木あんじゅ （CV: ...  \n",
       "1    松浦果南 （CV: 諏訪ななか）|黒澤ダイヤ （CV: 小宮有紗）|国木田花丸 （CV: 高...  \n",
       "2    高海千歌 （CV: 伊波杏樹）|桜内梨子 （CV: 逢田梨香子）|松浦果南 （CV: 諏訪な...  \n",
       "3    高海千歌 （CV: 伊波杏樹）|桜内梨子 （CV: 逢田梨香子）|松浦果南 （CV: 諏訪な...  \n",
       "4    上原歩夢 （CV: 大西亜玖璃）|桜坂しずく （CV: 前田佳織里）|優木せつ菜 （CV: ...  \n",
       "..                                                 ...  \n",
       "103  高海千歌 （CV: 伊波杏樹）|桜内梨子 （CV: 逢田梨香子）|渡辺 曜 （CV: 斉藤朱...  \n",
       "104   高海千歌 （CV: 伊波杏樹）|黒澤ダイヤ （CV: 小宮有紗）|津島善子 （CV: 小林愛香）  \n",
       "105                                   黒澤ダイヤ （CV: 小宮有紗）  \n",
       "106                  黒澤ダイヤ （CV: 小宮有紗）|黒澤ルビィ （CV: 降幡 愛）  \n",
       "107                                   黒澤ルビィ （CV: 降幡 愛）  \n",
       "\n",
       "[108 rows x 3 columns]"
      ]
     },
     "execution_count": 151,
     "metadata": {},
     "output_type": "execute_result"
    }
   ],
   "source": [
    "artist_df = pd.DataFrame(artist_df_dict)\n",
    "artist_df"
   ]
  },
  {
   "cell_type": "code",
   "execution_count": 152,
   "id": "b4bbf7db-6abd-4172-868c-6ad8cb2f62ed",
   "metadata": {},
   "outputs": [],
   "source": [
    "artist_df.to_csv('artists.csv', index=False)"
   ]
  }
 ],
 "metadata": {
  "kernelspec": {
   "display_name": "Python 3 (ipykernel)",
   "language": "python",
   "name": "python3"
  },
  "language_info": {
   "codemirror_mode": {
    "name": "ipython",
    "version": 3
   },
   "file_extension": ".py",
   "mimetype": "text/x-python",
   "name": "python",
   "nbconvert_exporter": "python",
   "pygments_lexer": "ipython3",
   "version": "3.10.2"
  }
 },
 "nbformat": 4,
 "nbformat_minor": 5
}
