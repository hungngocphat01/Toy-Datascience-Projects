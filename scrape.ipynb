{
 "cells": [
  {
   "cell_type": "markdown",
   "id": "18c56e1e-3352-4af0-b46e-a5cc06d0438a",
   "metadata": {},
   "source": [
    "# Import libraries"
   ]
  },
  {
   "cell_type": "code",
   "execution_count": 1,
   "id": "ae791724-e840-4b0f-9457-9b45a6ba9180",
   "metadata": {
    "tags": []
   },
   "outputs": [],
   "source": [
    "import os\n",
    "import pandas as pd\n",
    "from dateutil import parser as iso_date_parser\n",
    "\n",
    "import google_auth_oauthlib.flow\n",
    "import googleapiclient.discovery\n",
    "import googleapiclient.errors"
   ]
  },
  {
   "cell_type": "markdown",
   "id": "2b34a458-66b1-4d30-9563-ab057582f4ae",
   "metadata": {},
   "source": [
    "# Prepare client credentials"
   ]
  },
  {
   "cell_type": "code",
   "execution_count": 2,
   "id": "660659d2-0281-40e9-9063-a6246924f409",
   "metadata": {},
   "outputs": [
    {
     "name": "stdout",
     "output_type": "stream",
     "text": [
      "Please visit this URL to authorize this application: https://accounts.google.com/o/oauth2/auth?response_type=code&client_id=481920947367-s2qhm173nqhqhcic2iuuhdp10ujk5iid.apps.googleusercontent.com&redirect_uri=urn%3Aietf%3Awg%3Aoauth%3A2.0%3Aoob&scope=https%3A%2F%2Fwww.googleapis.com%2Fauth%2Fyoutube.readonly&state=PEis3NHqyGor7C4VUeDZ1xHyAmzhDb&prompt=consent&access_type=offline\n"
     ]
    },
    {
     "name": "stdin",
     "output_type": "stream",
     "text": [
      "Enter the authorization code:  4/1AX4XfWglCBgqt5bXnVVPgirI54T2yKixk2ZrmxDBtZf6O6r_7jH3Y_bYrbE\n"
     ]
    }
   ],
   "source": [
    "scopes = [\"https://www.googleapis.com/auth/youtube.readonly\"]\n",
    "\n",
    "# Disable OAuthlib's HTTPS verification when running locally.\n",
    "# *DO NOT* leave this option enabled in production.\n",
    "os.environ[\"OAUTHLIB_INSECURE_TRANSPORT\"] = \"1\"\n",
    "\n",
    "api_service_name = \"youtube\"\n",
    "api_version = \"v3\"\n",
    "client_secrets_file = \"client_secret.json\"\n",
    "\n",
    "# Get credentials and create an API client\n",
    "flow = google_auth_oauthlib.flow.InstalledAppFlow.from_client_secrets_file(\n",
    "    client_secrets_file, scopes)\n",
    "credentials = flow.run_console()\n",
    "youtube = googleapiclient.discovery.build(\n",
    "    api_service_name, api_version, credentials=credentials)"
   ]
  },
  {
   "cell_type": "markdown",
   "id": "47905251-9023-4c49-94c2-978a7f5a66b3",
   "metadata": {},
   "source": [
    "# Define utility functions"
   ]
  },
  {
   "cell_type": "code",
   "execution_count": 3,
   "id": "137fad55-dc09-45d7-bb01-da7006f84300",
   "metadata": {},
   "outputs": [],
   "source": [
    "# Get the \"uploads\" (main) playlist of the channel\n",
    "def getChannelPlaylist(channelId):\n",
    "    request = youtube.channels().list(\n",
    "        part=\"contentDetails\",\n",
    "        id=channelId\n",
    "    )\n",
    "    resp = request.execute()\n",
    "    return resp['items'][0]['contentDetails']['relatedPlaylists']['uploads']"
   ]
  },
  {
   "cell_type": "code",
   "execution_count": 4,
   "id": "e5143255-3cd8-4705-8980-9d38e6a43fae",
   "metadata": {},
   "outputs": [],
   "source": [
    "# Get playlist item on one page\n",
    "def queryPlaylistItems(playlistId, pageToken=''):\n",
    "    request = youtube.playlistItems().list(\n",
    "        part='snippet,contentDetails',\n",
    "        pageToken=pageToken,\n",
    "        playlistId=playlistId,\n",
    "        maxResults=50\n",
    "    )\n",
    "    resp = request.execute()\n",
    "    \n",
    "    return {\n",
    "        'itemIds': [obj['contentDetails']['videoId'] for obj in resp['items']],\n",
    "        'nextPageToken': resp['nextPageToken'] if 'nextPageToken' in resp else None\n",
    "    }"
   ]
  },
  {
   "cell_type": "code",
   "execution_count": 5,
   "id": "ac29de0e-d5bc-4039-b7ff-c8472e4367b4",
   "metadata": {},
   "outputs": [],
   "source": [
    "# Get all video ids of a playlist\n",
    "def getAllVidIdsFromList(playlistId):\n",
    "    allVideoIds = []\n",
    "    vidCount = 0\n",
    "    pageCount = 0\n",
    "    nextPageToken = ''\n",
    "    \n",
    "    while True:\n",
    "        currentPageData = queryPlaylistItems(playlistId, nextPageToken)\n",
    "        allVideoIds += currentPageData['itemIds']\n",
    "        nextPageToken = currentPageData['nextPageToken']\n",
    "        \n",
    "        vidCount += len(currentPageData['itemIds'])\n",
    "        pageCount += 1\n",
    "        print('Scraping page %d. Total vid count: %d' % (pageCount, vidCount))\n",
    "        if not nextPageToken:\n",
    "            break \n",
    "    \n",
    "    return allVideoIds"
   ]
  },
  {
   "cell_type": "code",
   "execution_count": 6,
   "id": "ee7e921e-9ee3-4d97-b26b-d86e18986a6a",
   "metadata": {},
   "outputs": [],
   "source": [
    "# Get the following information of a list of video ids\n",
    "# - Video title 'title'\n",
    "# - Total views 'viewCount'\n",
    "# - Published date 'publishedAt'\n",
    "def getVideoData(vidIds):\n",
    "    joinedVidIds = ','.join(vidIds)\n",
    "    \n",
    "    request = youtube.videos().list(\n",
    "        part=\"contentDetails,statistics,snippet\",\n",
    "        id=joinedVidIds\n",
    "    )\n",
    "    resp = request.execute()\n",
    "    \n",
    "    return [{\n",
    "        'publishedAt': item['snippet']['publishedAt'],\n",
    "        'title': item['snippet']['title'],\n",
    "        'viewCount': item['statistics']['viewCount']\n",
    "    } for item in resp['items']]"
   ]
  },
  {
   "cell_type": "code",
   "execution_count": 7,
   "id": "08d41bc1-7ff6-446f-9196-1cd912ac3f66",
   "metadata": {},
   "outputs": [],
   "source": [
    "def splitBins(start, end, interval):\n",
    "    bins = []\n",
    "    while start + interval < end:\n",
    "        bins.append((start, start + interval))\n",
    "        start += interval\n",
    "    bins.append((start, end))\n",
    "    return bins"
   ]
  },
  {
   "cell_type": "code",
   "execution_count": 8,
   "id": "0bc4f47a-4fe6-4ade-8392-de509790a802",
   "metadata": {},
   "outputs": [],
   "source": [
    "def fetchAllVideoData(vidIds):\n",
    "    bins = splitBins(0, len(vidIds) - 1, 50)\n",
    "    allData = []\n",
    "    \n",
    "    for start, end in bins:\n",
    "        print('Processing videos from %d to %d' % (start, end))\n",
    "        binVidIds = vidIds[start:end]\n",
    "        allData += getVideoData(binVidIds)\n",
    "    return allData"
   ]
  },
  {
   "cell_type": "markdown",
   "id": "553a2759-b53e-4079-9c85-b360e8b6f909",
   "metadata": {},
   "source": [
    "## Data scraping\n",
    "### Love Live"
   ]
  },
  {
   "cell_type": "code",
   "execution_count": 9,
   "id": "6a8b3e11-d6f7-453d-940c-22ee57a93e0d",
   "metadata": {},
   "outputs": [],
   "source": [
    "loveLivePlaylists = ['PLmgGL3shzkGM9akfMoobnVhE3XCP42lHb',\n",
    "                     'PLmgGL3shzkGM96YqVhygd3Skb42CTa-hy']\n",
    "loveLivePlaylists.append(getChannelPlaylist('UCTkyJbRhal4voLZxmdRSssQ'))\n",
    "loveLivePlaylists.append(getChannelPlaylist('UCWTbUllFchDX1IxfJF-N0UA'))"
   ]
  },
  {
   "cell_type": "code",
   "execution_count": 10,
   "id": "c4dbdb0f-184d-4ebf-b7df-8d14d8ea3c15",
   "metadata": {},
   "outputs": [
    {
     "name": "stdout",
     "output_type": "stream",
     "text": [
      "Scraping page 1. Total vid count: 50\n",
      "Scraping page 2. Total vid count: 100\n",
      "Scraping page 3. Total vid count: 116\n",
      "Processing videos from 0 to 50\n",
      "Processing videos from 50 to 100\n",
      "Processing videos from 100 to 115\n",
      "Scraping page 1. Total vid count: 50\n",
      "Scraping page 2. Total vid count: 100\n",
      "Scraping page 3. Total vid count: 150\n",
      "Scraping page 4. Total vid count: 200\n",
      "Scraping page 5. Total vid count: 215\n",
      "Processing videos from 0 to 50\n",
      "Processing videos from 50 to 100\n",
      "Processing videos from 100 to 150\n",
      "Processing videos from 150 to 200\n",
      "Processing videos from 200 to 214\n",
      "Scraping page 1. Total vid count: 50\n",
      "Scraping page 2. Total vid count: 100\n",
      "Scraping page 3. Total vid count: 150\n",
      "Scraping page 4. Total vid count: 200\n",
      "Scraping page 5. Total vid count: 250\n",
      "Scraping page 6. Total vid count: 300\n",
      "Scraping page 7. Total vid count: 350\n",
      "Scraping page 8. Total vid count: 400\n",
      "Scraping page 9. Total vid count: 450\n",
      "Scraping page 10. Total vid count: 500\n",
      "Scraping page 11. Total vid count: 550\n",
      "Scraping page 12. Total vid count: 600\n",
      "Scraping page 13. Total vid count: 650\n",
      "Scraping page 14. Total vid count: 700\n",
      "Scraping page 15. Total vid count: 750\n",
      "Scraping page 16. Total vid count: 800\n",
      "Scraping page 17. Total vid count: 850\n",
      "Scraping page 18. Total vid count: 900\n",
      "Scraping page 19. Total vid count: 947\n",
      "Processing videos from 0 to 50\n",
      "Processing videos from 50 to 100\n",
      "Processing videos from 100 to 150\n",
      "Processing videos from 150 to 200\n",
      "Processing videos from 200 to 250\n",
      "Processing videos from 250 to 300\n",
      "Processing videos from 300 to 350\n",
      "Processing videos from 350 to 400\n",
      "Processing videos from 400 to 450\n",
      "Processing videos from 450 to 500\n",
      "Processing videos from 500 to 550\n",
      "Processing videos from 550 to 600\n",
      "Processing videos from 600 to 650\n",
      "Processing videos from 650 to 700\n",
      "Processing videos from 700 to 750\n",
      "Processing videos from 750 to 800\n",
      "Processing videos from 800 to 850\n",
      "Processing videos from 850 to 900\n",
      "Processing videos from 900 to 946\n",
      "Scraping page 1. Total vid count: 50\n",
      "Scraping page 2. Total vid count: 100\n",
      "Scraping page 3. Total vid count: 150\n",
      "Scraping page 4. Total vid count: 168\n",
      "Processing videos from 0 to 50\n",
      "Processing videos from 50 to 100\n",
      "Processing videos from 100 to 150\n",
      "Processing videos from 150 to 167\n"
     ]
    }
   ],
   "source": [
    "loveLiveTotalVidData = []\n",
    "for playlistId in loveLivePlaylists:\n",
    "    allVidIds = getAllVidIdsFromList(playlistId)\n",
    "    allVidData = fetchAllVideoData(allVidIds)\n",
    "    loveLiveTotalVidData += allVidData"
   ]
  },
  {
   "cell_type": "code",
   "execution_count": 11,
   "id": "9c8d5d72-8534-4be8-b258-aa04c50235ca",
   "metadata": {},
   "outputs": [],
   "source": [
    "loveLiveDf = pd.DataFrame(loveLiveTotalVidData)"
   ]
  },
  {
   "cell_type": "code",
   "execution_count": 12,
   "id": "3bdc521a-1acd-434d-ad19-43ab7564f616",
   "metadata": {},
   "outputs": [],
   "source": [
    "loveLiveDf['viewCount'] = loveLiveDf['viewCount'].astype(int)"
   ]
  },
  {
   "cell_type": "code",
   "execution_count": 13,
   "id": "641883a0-eb41-471b-9f83-19bd8eb97a60",
   "metadata": {},
   "outputs": [
    {
     "data": {
      "text/plain": [
       "257886.54412786657"
      ]
     },
     "execution_count": 13,
     "metadata": {},
     "output_type": "execute_result"
    }
   ],
   "source": [
    "totalViews = loveLiveDf['viewCount'].sum()\n",
    "numVideo = len(loveLiveDf)\n",
    "totalViews / numVideo"
   ]
  },
  {
   "cell_type": "markdown",
   "id": "6a74b094-a6e9-4451-8888-daf5f0e7756a",
   "metadata": {},
   "source": [
    "## Data scraping\n",
    "### Bandori"
   ]
  },
  {
   "cell_type": "code",
   "execution_count": 14,
   "id": "fdd669d1-390d-4439-a161-f553672257f2",
   "metadata": {},
   "outputs": [],
   "source": [
    "bandoriPlaylists = []\n",
    "bandoriPlaylists.append(getChannelPlaylist('UCN-bFIdJM0gQlgX7h6LKcZA'))\n",
    "bandoriPlaylists.append(getChannelPlaylist('UCPityslSknKsWUq9iy8p9fw'))"
   ]
  },
  {
   "cell_type": "code",
   "execution_count": 15,
   "id": "f4025590-7273-4371-b99c-2bc1c533308b",
   "metadata": {},
   "outputs": [
    {
     "name": "stdout",
     "output_type": "stream",
     "text": [
      "Scraping page 1. Total vid count: 50\n",
      "Scraping page 2. Total vid count: 100\n",
      "Scraping page 3. Total vid count: 150\n",
      "Scraping page 4. Total vid count: 200\n",
      "Scraping page 5. Total vid count: 250\n",
      "Scraping page 6. Total vid count: 300\n",
      "Scraping page 7. Total vid count: 350\n",
      "Scraping page 8. Total vid count: 400\n",
      "Scraping page 9. Total vid count: 450\n",
      "Scraping page 10. Total vid count: 500\n",
      "Scraping page 11. Total vid count: 550\n",
      "Scraping page 12. Total vid count: 600\n",
      "Scraping page 13. Total vid count: 650\n",
      "Scraping page 14. Total vid count: 700\n",
      "Scraping page 15. Total vid count: 750\n",
      "Scraping page 16. Total vid count: 800\n",
      "Scraping page 17. Total vid count: 850\n",
      "Scraping page 18. Total vid count: 900\n",
      "Scraping page 19. Total vid count: 950\n",
      "Scraping page 20. Total vid count: 1000\n",
      "Scraping page 21. Total vid count: 1050\n",
      "Scraping page 22. Total vid count: 1100\n",
      "Scraping page 23. Total vid count: 1150\n",
      "Scraping page 24. Total vid count: 1200\n",
      "Scraping page 25. Total vid count: 1250\n",
      "Scraping page 26. Total vid count: 1300\n",
      "Scraping page 27. Total vid count: 1350\n",
      "Scraping page 28. Total vid count: 1400\n",
      "Scraping page 29. Total vid count: 1433\n",
      "Processing videos from 0 to 50\n",
      "Processing videos from 50 to 100\n",
      "Processing videos from 100 to 150\n",
      "Processing videos from 150 to 200\n",
      "Processing videos from 200 to 250\n",
      "Processing videos from 250 to 300\n",
      "Processing videos from 300 to 350\n",
      "Processing videos from 350 to 400\n",
      "Processing videos from 400 to 450\n",
      "Processing videos from 450 to 500\n",
      "Processing videos from 500 to 550\n",
      "Processing videos from 550 to 600\n",
      "Processing videos from 600 to 650\n",
      "Processing videos from 650 to 700\n",
      "Processing videos from 700 to 750\n",
      "Processing videos from 750 to 800\n",
      "Processing videos from 800 to 850\n",
      "Processing videos from 850 to 900\n",
      "Processing videos from 900 to 950\n",
      "Processing videos from 950 to 1000\n",
      "Processing videos from 1000 to 1050\n",
      "Processing videos from 1050 to 1100\n",
      "Processing videos from 1100 to 1150\n",
      "Processing videos from 1150 to 1200\n",
      "Processing videos from 1200 to 1250\n",
      "Processing videos from 1250 to 1300\n",
      "Processing videos from 1300 to 1350\n",
      "Processing videos from 1350 to 1400\n",
      "Processing videos from 1400 to 1432\n",
      "Scraping page 1. Total vid count: 50\n",
      "Scraping page 2. Total vid count: 100\n",
      "Scraping page 3. Total vid count: 150\n",
      "Scraping page 4. Total vid count: 200\n",
      "Scraping page 5. Total vid count: 250\n",
      "Scraping page 6. Total vid count: 300\n",
      "Scraping page 7. Total vid count: 349\n",
      "Processing videos from 0 to 50\n",
      "Processing videos from 50 to 100\n",
      "Processing videos from 100 to 150\n",
      "Processing videos from 150 to 200\n",
      "Processing videos from 200 to 250\n",
      "Processing videos from 250 to 300\n",
      "Processing videos from 300 to 348\n"
     ]
    }
   ],
   "source": [
    "bandoriTotalVidData = []\n",
    "for playlistId in bandoriPlaylists:\n",
    "    allVidIds = getAllVidIdsFromList(playlistId)\n",
    "    allVidData = fetchAllVideoData(allVidIds)\n",
    "    bandoriTotalVidData += allVidData"
   ]
  },
  {
   "cell_type": "code",
   "execution_count": 16,
   "id": "533a9e2f-308f-48a4-892d-b0f7606018b1",
   "metadata": {},
   "outputs": [],
   "source": [
    "bandoriDf = pd.DataFrame(bandoriTotalVidData)"
   ]
  },
  {
   "cell_type": "code",
   "execution_count": 17,
   "id": "d5c24c62-d0cb-4876-8a8c-0f4ac562d248",
   "metadata": {},
   "outputs": [],
   "source": [
    "bandoriDf['viewCount'] = bandoriDf['viewCount'].astype(int)"
   ]
  },
  {
   "cell_type": "code",
   "execution_count": 18,
   "id": "aeb69a74-5689-4391-be3e-c214bf617471",
   "metadata": {},
   "outputs": [
    {
     "data": {
      "text/plain": [
       "176246.70393258426"
      ]
     },
     "execution_count": 18,
     "metadata": {},
     "output_type": "execute_result"
    }
   ],
   "source": [
    "totalViews = bandoriDf['viewCount'].sum()\n",
    "numVideo = len(bandoriDf)\n",
    "totalViews / numVideo"
   ]
  },
  {
   "cell_type": "code",
   "execution_count": 19,
   "id": "2080937b-efb5-4968-9584-f22efb1f0445",
   "metadata": {},
   "outputs": [],
   "source": [
    "loveLiveDf.to_csv('lovelive.csv', index=False)"
   ]
  },
  {
   "cell_type": "code",
   "execution_count": 20,
   "id": "df0ccde4-3b3d-440a-a984-5b4950496bea",
   "metadata": {},
   "outputs": [],
   "source": [
    "bandoriDf.to_csv('bandori.csv', index=False)"
   ]
  },
  {
   "cell_type": "code",
   "execution_count": null,
   "id": "f781505b-7a61-4b57-8b92-e8b57a367f5e",
   "metadata": {},
   "outputs": [],
   "source": []
  }
 ],
 "metadata": {
  "kernelspec": {
   "display_name": "Python 3 (ipykernel)",
   "language": "python",
   "name": "python3"
  },
  "language_info": {
   "codemirror_mode": {
    "name": "ipython",
    "version": 3
   },
   "file_extension": ".py",
   "mimetype": "text/x-python",
   "name": "python",
   "nbconvert_exporter": "python",
   "pygments_lexer": "ipython3",
   "version": "3.8.8"
  }
 },
 "nbformat": 4,
 "nbformat_minor": 5
}
