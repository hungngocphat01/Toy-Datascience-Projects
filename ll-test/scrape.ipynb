{
 "cells": [
  {
   "cell_type": "markdown",
   "source": [
    "# Scrape MAL data"
   ],
   "metadata": {}
  },
  {
   "cell_type": "code",
   "execution_count": 62,
   "source": [
    "import seaborn as sns\n",
    "import pandas as pd\n",
    "import matplotlib.pyplot as plt\n",
    "from jikanpy import Jikan\n",
    "import numpy as np"
   ],
   "outputs": [],
   "metadata": {}
  },
  {
   "cell_type": "markdown",
   "source": [
    "## Grab data from MAL API"
   ],
   "metadata": {}
  },
  {
   "cell_type": "code",
   "execution_count": 63,
   "source": [
    "# MAL id of all LL animes ever, grouped by \"generations\"\n",
    "label_map = {\n",
    "    32526: 'Sunshine S1', \n",
    "    34973: 'Sunshine S2', \n",
    "    37027: 'Sunshine Movie',\n",
    "    15051: 'School Idol Project S1', \n",
    "    19111: 'School Idol Project S2', \n",
    "    24997: 'School Idol Project Movie', \n",
    "    41169: 'Superstar',\n",
    "    40879: 'Nijigasaki', \n",
    "    10278: 'The iDOLM@STER', \n",
    "    17437: 'The iDOLM@STER Movie',\n",
    "    30344: 'The iDOLM@STER CG S2',\n",
    "    23587: 'The iDOLM@STER CG S1',\n",
    "    33573: 'Bandori S1', \n",
    "    37869: 'Bandori S2', \n",
    "    37870: 'Bandori S3',\n",
    "    39619: 'Bandori Film Live'\n",
    "}\n",
    "\n",
    "group_ids = {\n",
    "    \"Love Live!\": [15051, 24997, 19111],\n",
    "    \"Love Live! Sunshine!!\": [32526, 34973, 37027],\n",
    "    \"Love Live! Nijigasaki\": [40879], \n",
    "    \"Love Live! Superstar!!\": [41169], \n",
    "    'iM@S': [10278, 17437], \n",
    "    'iM@S CG': [30344, 23587],\n",
    "    'Bandori': [33573, 37869, 37870, 39619]\n",
    "}"
   ],
   "outputs": [],
   "metadata": {}
  },
  {
   "cell_type": "code",
   "execution_count": 69,
   "source": [
    "# Calculate the drop ratio of each anime\n",
    "drop_ratio = dict()\n",
    "jikan = Jikan()\n",
    "\n",
    "# For each group, calculate the sample mean and std statistics for all animes of that generation\n",
    "grp_stats = []\n",
    "for grp in group_ids:\n",
    "    print('Processing group:', grp)\n",
    "    ids = group_ids[grp]\n",
    "    grp_sample = np.array([])\n",
    "    # For each anime of the current group\n",
    "    for anime_id in ids:\n",
    "        print('\\tProcessing anime:', label_map[anime_id])\n",
    "        jikan.anime(anime_id)   # Bootstrap\n",
    "        response = jikan.anime(anime_id, extension='stats')\n",
    "        if not response: \n",
    "            print('\\tFailed for:', label_map[anime_id])\n",
    "            continue\n",
    "        # Calculate drop ratio\n",
    "        drop_ratio[label_map[anime_id]] = int(response['dropped'])/int(response['total']) * 100\n",
    "        # Build sample for current anime\n",
    "        scores = response['scores']\n",
    "        for score in scores:\n",
    "            votes = scores[score]['votes']\n",
    "            s = np.repeat(int(score), votes)\n",
    "            grp_sample = np.append(grp_sample, s)\n",
    "    grp_stats.append({\n",
    "        'group': grp, \n",
    "        'mean': np.mean(grp_sample), \n",
    "        'std': np.std(grp_sample), \n",
    "        'count': len(grp_sample)\n",
    "    })"
   ],
   "outputs": [
    {
     "output_type": "stream",
     "name": "stdout",
     "text": [
      "Processing group: Love Live!\n",
      "\tProcessing anime: School Idol Project S1\n",
      "\tProcessing anime: School Idol Project Movie\n",
      "\tProcessing anime: School Idol Project S2\n",
      "Processing group: Love Live! Sunshine!!\n",
      "\tProcessing anime: Sunshine S1\n",
      "\tProcessing anime: Sunshine S2\n",
      "\tProcessing anime: Sunshine Movie\n",
      "Processing group: Love Live! Nijigasaki High School Idol Club\n",
      "\tProcessing anime: Nijigasaki\n",
      "Processing group: Love Live! Superstar!!\n",
      "\tProcessing anime: Superstar\n",
      "Processing group: iM@S\n",
      "\tProcessing anime: The iDOLM@STER\n",
      "\tProcessing anime: The iDOLM@STER Movie\n",
      "Processing group: iM@S CG\n",
      "\tProcessing anime: The iDOLM@STER CG S2\n",
      "\tProcessing anime: The iDOLM@STER CG S1\n",
      "Processing group: Bandori\n",
      "\tProcessing anime: Bandori S1\n",
      "\tProcessing anime: Bandori S2\n",
      "\tProcessing anime: Bandori S3\n",
      "\tProcessing anime: Bandori Film Live\n"
     ]
    }
   ],
   "metadata": {}
  },
  {
   "cell_type": "code",
   "execution_count": null,
   "source": [
    "drop_df = pd.DataFrame.from_dict(drop_ratio, orient='index', columns=['ratio']).sort_values('ratio')\n",
    "drop_df.to_csv('drop_ratio.csv')\n",
    "\n",
    "score_df = pd.DataFrame(grp_stats)\n",
    "score_df.to_csv('scores.csv', index=False)"
   ],
   "outputs": [],
   "metadata": {}
  }
 ],
 "metadata": {
  "orig_nbformat": 4,
  "language_info": {
   "name": "python",
   "version": "3.9.5",
   "mimetype": "text/x-python",
   "codemirror_mode": {
    "name": "ipython",
    "version": 3
   },
   "pygments_lexer": "ipython3",
   "nbconvert_exporter": "python",
   "file_extension": ".py"
  },
  "kernelspec": {
   "name": "python3",
   "display_name": "Python 3.9.5 64-bit ('base': conda)"
  },
  "interpreter": {
   "hash": "569d6b7e9215e11aba41c6454007e5c1b78bad7df09dab765d8cf00362c40f03"
  }
 },
 "nbformat": 4,
 "nbformat_minor": 2
}