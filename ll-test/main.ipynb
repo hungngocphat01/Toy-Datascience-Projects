{
 "cells": [
  {
   "cell_type": "markdown",
   "source": [
    "# For every pair from scraped data from MAL, determine if an anime is better than the other"
   ],
   "metadata": {}
  },
  {
   "cell_type": "code",
   "execution_count": 1,
   "source": [
    "import seaborn as sns\n",
    "import pandas as pd\n",
    "import matplotlib.pyplot as plt\n",
    "import numpy as np"
   ],
   "outputs": [],
   "metadata": {}
  },
  {
   "cell_type": "markdown",
   "source": [
    "## Read data"
   ],
   "metadata": {}
  },
  {
   "cell_type": "code",
   "execution_count": 5,
   "source": [
    "drop_df = pd.read_csv('drop_ratio.csv', index_col=0)\n",
    "score_df = pd.read_csv('scores.csv')"
   ],
   "outputs": [],
   "metadata": {}
  },
  {
   "cell_type": "markdown",
   "source": [
    "## Draw barplot of drop ratio"
   ],
   "metadata": {}
  },
  {
   "cell_type": "code",
   "execution_count": 6,
   "source": [
    "plt.title('Drop ratio of music animes, from MyAnimeList circa 2021')\n",
    "ax = sns.barplot(data=drop_df, x='ratio', y=drop_df.index, orient='h')\n",
    "ax.set(xlabel='Percentage')"
   ],
   "outputs": [
    {
     "output_type": "execute_result",
     "data": {
      "text/plain": [
       "[Text(0.5, 0, 'Percentage')]"
      ]
     },
     "metadata": {},
     "execution_count": 6
    },
    {
     "output_type": "display_data",
     "data": {
      "image/png": "[encoded data removed]",
      "text/plain": [
       "<Figure size 432x288 with 1 Axes>"
      ]
     },
     "metadata": {
      "needs_background": "light"
     }
    }
   ],
   "metadata": {}
  },
  {
   "cell_type": "markdown",
   "source": [
    "## Define mathematical functions"
   ],
   "metadata": {}
  },
  {
   "cell_type": "markdown",
   "source": [
    "### Student's t-test  \n",
    "Used when 2 samples have similar variance ($\\frac{1}{2} < \\frac{s_1}{s_2} < 2$).\n",
    "\n",
    "t statistic:\n",
    "![](https://wikimedia.org/api/rest_v1/media/math/render/svg/faf70034d0a3a686080b98b32f64f2cc62a5dbad)\n",
    "\n",
    "Where \n",
    "![](https://wikimedia.org/api/rest_v1/media/math/render/svg/451cd1fdd5cb308af96957c3cb28131035b07e97)\n",
    "\n",
    "Degrees of freedom: $n_1 + n_2 - 1$."
   ],
   "metadata": {}
  },
  {
   "cell_type": "code",
   "execution_count": null,
   "source": [
    "def unpack(sample1, sample2) -> tuple:\n",
    "    '''\n",
    "    Utility function to unpack std and count from 2 samples\n",
    "    Returns: `s1, s2, n1, n2`\n",
    "    '''\n",
    "    return sample1['std'], sample2['std'], sample1['count'], sample2['count']\n",
    "\n",
    "def student_sp(sample1, sample2) -> float:\n",
    "    '''\n",
    "    Student's t-test: Calculate the pooled standard deviation of 2 samples\n",
    "    '''\n",
    "    s1, s2, n1, n2 = unpack(sample1, sample2)\n",
    "\n",
    "    return np.sqrt(\n",
    "        ((n1 - 1) * (s1 ** 2) + (n2 - 1) * (s2 ** 2)) / (n1 + n2 - 2)\n",
    "    )\n",
    "\n",
    "def student_stat(sample1, sample2) -> float:\n",
    "    '''\n",
    "    Student's t-test: Calculate the `t` statistic of 2 independent samples with similar std.\n",
    "    '''\n",
    "    return (\n",
    "        (sample1['mean'] - sample2['mean'])\n",
    "        / (student_sp(sample1, sample2))\n",
    "    )\n"
   ],
   "outputs": [],
   "metadata": {}
  },
  {
   "cell_type": "markdown",
   "source": [
    "### Welch's t-test  \n",
    "Used when 2 samples have unequal variances ($s_1 > 2s_2$ or $s_2 > 2s_1$)\n",
    "\n",
    "t statistic: \n",
    "![](https://wikimedia.org/api/rest_v1/media/math/render/svg/eeecf40c622f1fa6b0fb9462c7c4b7030cbb47eb)\n",
    "\n",
    "Where\n",
    "![](https://wikimedia.org/api/rest_v1/media/math/render/svg/5024dd38e905d60353a324af2a05058fdd4ac3e7)\n",
    "\n",
    "Degrees of freedom: \n",
    "![](https://wikimedia.org/api/rest_v1/media/math/render/svg/bf9929fa7098ff7e57a5c421c0fdcb3eea20435f)"
   ],
   "metadata": {}
  },
  {
   "cell_type": "code",
   "execution_count": null,
   "source": [
    "def welch_df(sample1, sample2) -> float:\n",
    "    '''\n",
    "    Welch's t-test: Calculate the Welch degree of freedom.\n",
    "    '''\n",
    "    s1, s2, n1, n2 = unpack(sample1, sample2)\n",
    "\n",
    "    s_n = lambda i: (eval(f's{i}') ** 2) / eval(f'n{i}')\n",
    "    return (\n",
    "        ((s_n(1) + s_n(2)) ** 2) /\n",
    "        ((s_n(1) ** 2) / (n1 - 1) + (s_n(2) ** 2) / (n2 - 1))\n",
    "    )\n",
    "\n",
    "def welch_sdelta(sample1, sample2) -> float:\n",
    "    '''\n",
    "    Welch's t-test: Calculate the unbiased estimator of 2 samples\n",
    "    '''\n",
    "    s1, s2, n1, n2 = unpack(sample1, sample2)\n",
    "    return np.sqrt(\n",
    "        s1**2/n1 + s2**2/n2\n",
    "    )\n",
    "\n",
    "def welch_stat(sample1, sample2) -> float: \n",
    "    '''\n",
    "    Welch's t-test: Calculate the `t` statistic of 2 independent samples with unequal std.\n",
    "    '''\n",
    "    return (sample1['mean'] - sample2['mean']) / welch_sdelta(sample1, sample2)"
   ],
   "outputs": [],
   "metadata": {}
  },
  {
   "cell_type": "markdown",
   "source": [
    "### One-tailed hypothesis testing\n",
    "\n",
    "$$\n",
    "\\begin{cases} \n",
    "H_0: \\mu_1 \\ge \\mu_2 \\\\\n",
    "H_1: \\mu_1 < \\mu2\n",
    "\\end{cases}\n",
    "$$\n",
    "\n",
    "or \n",
    "\n",
    "$$\n",
    "\\begin{cases} \n",
    "H_0: \\mu_1 \\le \\mu_2 \\\\\n",
    "H_1: \\mu_1 > \\mu2\n",
    "\\end{cases}\n",
    "$$\n",
    "\n",
    "Steps:\n",
    "- Calculate t statistics. \n",
    "- Calculate p-value using Student's t-distribution $t_{df, T}$.\n",
    "- If $p < \\alpha$, reject $H_0$. "
   ],
   "metadata": {}
  }
 ],
 "metadata": {
  "orig_nbformat": 4,
  "language_info": {
   "name": "python",
   "version": "3.9.5",
   "mimetype": "text/x-python",
   "codemirror_mode": {
    "name": "ipython",
    "version": 3
   },
   "pygments_lexer": "ipython3",
   "nbconvert_exporter": "python",
   "file_extension": ".py"
  },
  "kernelspec": {
   "name": "python3",
   "display_name": "Python 3.9.5 64-bit ('base': conda)"
  },
  "interpreter": {
   "hash": "569d6b7e9215e11aba41c6454007e5c1b78bad7df09dab765d8cf00362c40f03"
  }
 },
 "nbformat": 4,
 "nbformat_minor": 2
}